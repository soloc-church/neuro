{
 "cells": [
  {
   "cell_type": "markdown",
   "id": "2a1a2aaa",
   "metadata": {},
   "source": [
    "Seek his will in all you do, and he will show you which path to take.\n",
    "Proverbs 3:6"
   ]
  },
  {
   "cell_type": "markdown",
   "id": "9ea6e6f8",
   "metadata": {},
   "source": [
    "simulate QAOA to verify the partitioning of neurons by cortical depth."
   ]
  },
  {
   "cell_type": "markdown",
   "id": "4d8dd237",
   "metadata": {},
   "source": [
    "\n",
    "## Data Loading"
   ]
  },
  {
   "cell_type": "code",
   "execution_count": null,
   "id": "24923fee",
   "metadata": {},
   "outputs": [],
   "source": [
    "import numpy as np\n",
    "import pandas as pd\n",
    "from numba import njit\n",
    "import matplotlib.pyplot as plt\n",
    "import seaborn as sns\n",
    "from pathlib import Path\n",
    "import warnings\n",
    "from scipy import stats, signal\n",
    "from scipy.spatial.distance import pdist, squareform\n",
    "from scipy.cluster import hierarchy\n",
    "from scipy.stats import binomtest, binned_statistic \n",
    "from scipy.optimize import curve_fit\n",
    "from sklearn.decomposition import PCA, NMF\n",
    "from sklearn.cluster import DBSCAN, KMeans\n",
    "from sklearn.preprocessing import StandardScaler\n",
    "from sklearn.metrics import mutual_info_score  \n",
    "from sklearn.metrics import silhouette_score\n",
    "import networkx as nx\n",
    "from tqdm import tqdm\n",
    "import pickle\n",
    "\n",
    "# Set up plotting style\n",
    "plt.style.use('seaborn-v0_8-darkgrid')\n",
    "sns.set_palette(\"husl\")\n",
    "warnings.filterwarnings('ignore')\n",
    "\n",
    "# Import custom modules\n",
    "from pathlib import Path\n",
    "import sys\n",
    "PROJECT_ROOT = Path().resolve().parent  \n",
    "sys.path.insert(0, str(PROJECT_ROOT))\n",
    "\n",
    "from src.dataio.config import DATA_DIR, FILESYSTEM_CONFIG\n",
    "from src.dataio.data_structures import SessionData\n",
    "from src.dataio.loaders import load_session_complete\n",
    "from src.dataio.processors import ResponseProcessor, NetworkAnalyzer, DimensionalityReducer\n",
    "from src.dataio.validators import validate_session_comprehensive, analyze_session_quality\n",
    "from src import features"
   ]
  }
 ],
 "metadata": {
  "language_info": {
   "name": "python"
  }
 },
 "nbformat": 4,
 "nbformat_minor": 5
}
