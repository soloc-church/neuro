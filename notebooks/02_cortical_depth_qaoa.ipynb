{
 "cells": [
  {
   "cell_type": "markdown",
   "id": "b4dad02d",
   "metadata": {},
   "source": [
    "Seek his will in all you do, and he will show you which path to take.\n",
    "Proverbs 3:6"
   ]
  },
  {
   "cell_type": "markdown",
   "id": "1c0ffe07",
   "metadata": {},
   "source": [
    "Use QAOA to verify the partitioning of neurons by cortical depth."
   ]
  },
  {
   "cell_type": "markdown",
   "id": "c11c7cd3",
   "metadata": {},
   "source": [
    "\n",
    "## Data Loading"
   ]
  },
  {
   "cell_type": "code",
   "execution_count": 1,
   "id": "7169c6b1",
   "metadata": {},
   "outputs": [
    {
     "name": "stdout",
     "output_type": "stream",
     "text": [
      "📁 Data directory: /Volumes/pack/qbraid/neuroscience-qaoa/notebooks/data\n",
      "✓ Data directory exists: True\n"
     ]
    }
   ],
   "source": [
    "import numpy as np\n",
    "import pandas as pd\n",
    "from numba import njit\n",
    "import matplotlib.pyplot as plt\n",
    "import seaborn as sns\n",
    "from pathlib import Path\n",
    "import warnings\n",
    "from scipy import stats, signal\n",
    "from scipy.spatial.distance import pdist, squareform\n",
    "from scipy.cluster import hierarchy\n",
    "from scipy.stats import binomtest, binned_statistic \n",
    "from scipy.optimize import curve_fit\n",
    "from sklearn.decomposition import PCA, NMF\n",
    "from sklearn.cluster import DBSCAN, KMeans\n",
    "from sklearn.preprocessing import StandardScaler\n",
    "from sklearn.metrics import mutual_info_score  \n",
    "from sklearn.metrics import silhouette_score\n",
    "import networkx as nx\n",
    "from tqdm import tqdm\n",
    "import pickle\n",
    "\n",
    "# Set up plotting style\n",
    "plt.style.use('seaborn-v0_8-darkgrid')\n",
    "sns.set_palette(\"husl\")\n",
    "warnings.filterwarnings('ignore')\n",
    "\n",
    "# Import custom modules\n",
    "from pathlib import Path\n",
    "import sys\n",
    "PROJECT_ROOT = Path().resolve().parent  \n",
    "sys.path.insert(0, str(PROJECT_ROOT))\n",
    "\n",
    "from src.dataio.config import DATA_DIR, FILESYSTEM_CONFIG\n",
    "from src.dataio.data_structures import SessionData\n",
    "from src.dataio.loaders import load_session_complete\n",
    "from src.dataio.processors import ResponseProcessor, NetworkAnalyzer, DimensionalityReducer\n",
    "from src.dataio.validators import validate_session_comprehensive, analyze_session_quality\n",
    "from src import features"
   ]
  },
  {
   "cell_type": "code",
   "execution_count": 2,
   "id": "fc8973aa",
   "metadata": {},
   "outputs": [
    {
     "name": "stdout",
     "output_type": "stream",
     "text": [
      "Discovered 9 sessions:\n",
      "   031020_367n_100um20st_FRA\n",
      "   031020_367r_100um20st_FRA\n",
      "   031120_352ll_100um20st_FRA\n",
      "   031120_352ll_100um20st_FRA_diffxy\n",
      "   080720_400r\n",
      "   081820_355n\n",
      "   081920_355l\n",
      "   081920_355r\n",
      "   082620_355l\n",
      "\n",
      "Primary analysis session: 081820_355n\n",
      "Loading session from: ../data/raw/081820_355n\n"
     ]
    },
    {
     "name": "stderr",
     "output_type": "stream",
     "text": [
      "No signal correlation matrix was found in any source.\n",
      "No noise correlation matrix was found in any source.\n",
      "Trimmed trials to 22 to match available data\n",
      "VALIDATION WARNING: Unexpected trial count: 22. Expected one of [90, 180]\n",
      "VALIDATION WARNING: Activity matrix contains 4 NaN values (0.00%).\n"
     ]
    },
    {
     "name": "stdout",
     "output_type": "stream",
     "text": [
      "\n",
      "Session loaded successfully!\n",
      "Neurons: 416\n",
      "Trials:  22\n",
      "Activity matrix shape: (416, 2060)\n",
      "Data quality score: 1.00\n"
     ]
    }
   ],
   "source": [
    "DATA_DIR = Path('../data/raw')\n",
    "\n",
    "# Find all subdirs that contain the expected .mat file\n",
    "MAT_FILENAME = 'allPlanesVariables27-Feb-2021.mat'\n",
    "sessions = sorted([\n",
    "    d.name\n",
    "    for d in DATA_DIR.iterdir()\n",
    "    if d.is_dir() and (d / MAT_FILENAME).is_file()\n",
    "])\n",
    "\n",
    "print(f\"Discovered {len(sessions)} sessions:\")\n",
    "for s in sessions:\n",
    "    print(\"  \", s)\n",
    "\n",
    "# Choose your primary session here (must be one of the discovered names)\n",
    "PRIMARY_SESSION = '081820_355n'\n",
    "if PRIMARY_SESSION not in sessions:\n",
    "    raise ValueError(f\"Primary session '{PRIMARY_SESSION}' not found in data/. Available: {sessions}\")\n",
    "\n",
    "print(f\"\\nPrimary analysis session: {PRIMARY_SESSION}\")\n",
    "\n",
    "# --- now load & process as before ---\n",
    "\n",
    "session_path = DATA_DIR / PRIMARY_SESSION\n",
    "print(f\"Loading session from: {session_path}\")\n",
    "\n",
    "session = load_session_complete(session_path, use_cache=True)\n",
    "\n",
    "validation_result = validate_session_comprehensive(session)\n",
    "quality_report     = analyze_session_quality(session)\n",
    "\n",
    "print(f\"\\nSession loaded successfully!\")\n",
    "print(f\"Neurons: {len(session.neurons)}\")\n",
    "print(f\"Trials:  {len(session.trials)}\")\n",
    "print(f\"Activity matrix shape: {session.activity_matrix.shape}\")\n",
    "print(f\"Data quality score: {quality_report['overall_score']:.2f}\")\n"
   ]
  },
  {
   "cell_type": "code",
   "execution_count": null,
   "id": "35f9c9a8",
   "metadata": {},
   "outputs": [],
   "source": []
  }
 ],
 "metadata": {
  "kernelspec": {
   "display_name": ".venv",
   "language": "python",
   "name": "python3"
  },
  "language_info": {
   "codemirror_mode": {
    "name": "ipython",
    "version": 3
   },
   "file_extension": ".py",
   "mimetype": "text/x-python",
   "name": "python",
   "nbconvert_exporter": "python",
   "pygments_lexer": "ipython3",
   "version": "3.10.17"
  }
 },
 "nbformat": 4,
 "nbformat_minor": 5
}
